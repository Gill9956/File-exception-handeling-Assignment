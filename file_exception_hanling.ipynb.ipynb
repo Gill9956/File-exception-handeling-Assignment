{
 "cells": [
  {
   "cell_type": "markdown",
   "id": "869ca0dc",
   "metadata": {},
   "source": [
    "# File nd exception handling Assignment"
   ]
  },
  {
   "cell_type": "markdown",
   "id": "c10e6610",
   "metadata": {},
   "source": [
    "## Theory Questions"
   ]
  },
  {
   "cell_type": "markdown",
   "id": "702f7ff3",
   "metadata": {},
   "source": [
    "#### Question 1:  What is the difference between interpreted and compiled languages?\n",
    "\n",
    "#### Answer 1:\n",
    " Interpreted languages (e.g., Python): Code is executed line by line by an interpreter.\n",
    "\n",
    " Compiled languages (e.g., C++): Code is translated into machine code by a compiler before execution, making them generally faster.\n",
    "\n",
    "-----------------------------------"
   ]
  },
  {
   "cell_type": "markdown",
   "id": "fbb52e28",
   "metadata": {},
   "source": [
    "#### Question 2: What is exception handling in Python?\n",
    "\n",
    "#### Answer 2:\n",
    " Exception handling is used to manage runtime errors gracefully using try, except, else, and finally blocks, preventing program crashes.\n",
    "\n",
    "-------------------------------"
   ]
  },
  {
   "cell_type": "markdown",
   "id": "8a8848a8",
   "metadata": {},
   "source": [
    "#### Question 3: What is the purpose of the finally block in exception handling?\n",
    "\n",
    "#### Answer 3:\n",
    " The finally block runs regardless of whether an exception occurs. It's commonly used for cleanup actions like closing files or releasing resources.\n",
    "\n",
    "\n",
    "--------------------------------"
   ]
  },
  {
   "cell_type": "markdown",
   "id": "4f2e0ffc",
   "metadata": {},
   "source": [
    "#### Question 4: What is logging in Python?\n",
    "\n",
    "#### Answer 4:\n",
    " Logging is the process of recording information (errors, warnings, debug messages) during the execution of a program, using Python’s logging module.\n",
    "\n",
    "------------------------------------"
   ]
  },
  {
   "cell_type": "markdown",
   "id": "15bade59",
   "metadata": {},
   "source": [
    "#### Question 5: What is the significance of the __del__ method in Python?\n",
    "\n",
    "#### Answer 5:\n",
    " __del__ is a special method called when an object is about to be destroyed. It's used for cleanup tasks but should be used cautiously due to unpredictability in garbage collection timing.\n",
    "\n",
    "------------------------------------"
   ]
  },
  {
   "cell_type": "markdown",
   "id": "ece3bba1",
   "metadata": {},
   "source": [
    "#### Question 6: What is the difference between import and from ... import in Python?\n",
    "\n",
    "#### Answer 6:\n",
    " import module: Imports the entire module.\n",
    "\n",
    " from module import name: Imports specific items directly, allowing use without module prefix.\n",
    "\n",
    "-----------------------------------"
   ]
  },
  {
   "cell_type": "markdown",
   "id": "6db4e4b5",
   "metadata": {},
   "source": [
    "#### Question 7:  How can you handle multiple exceptions in Python?\n",
    "\n",
    "#### Answer 7:\n",
    " #### Use either:\n",
    "\n",
    " except (TypeError, ValueError) as e:\n",
    "    print(e)\n",
    "\n",
    "#### Or separate except blocks:\n",
    "\n",
    "\n",
    " except TypeError:\n",
    "    ...\n",
    " xcept ValueError:\n",
    "    ...\n"
   ]
  },
  {
   "cell_type": "markdown",
   "id": "e3b9e82a",
   "metadata": {},
   "source": [
    "------------------------------------"
   ]
  },
  {
   "cell_type": "markdown",
   "id": "a8b31064",
   "metadata": {},
   "source": [
    "#### Question 8:  What is the purpose of the with statement when handling files in Python?\n",
    "\n",
    "#### Answer 8:\n",
    " It automatically manages file opening and closing, even if exceptions occur, making code cleaner and safer.\n",
    "\n",
    "------------------------------------"
   ]
  },
  {
   "cell_type": "markdown",
   "id": "7ae8bf24",
   "metadata": {},
   "source": [
    "#### Question 9: What is the difference between multithreading and multiprocessing?\n",
    "\n",
    "#### Answer 9:\n",
    " Multithreading: Multiple threads in the same process, good for I/O-bound tasks.\n",
    "\n",
    " Multiprocessing: Uses separate processes, each with its own memory, suitable for CPU-bound tasks and avoids GIL (Global Interpreter Lock).\n",
    "\n",
    "------------------------------------"
   ]
  },
  {
   "cell_type": "markdown",
   "id": "8e4767d4",
   "metadata": {},
   "source": [
    "#### Question 10: What are the advantages of using logging in a program?\n",
    "\n",
    "#### Answer 10:\\\n",
    " Tracks events for debugging or monitoring\n",
    "\n",
    " Provides log levels for filtering\n",
    "\n",
    " Allows output to files or remote systems\n",
    "\n",
    " Better than using print statements in production\n",
    "\n",
    "------------------------------------"
   ]
  },
  {
   "cell_type": "markdown",
   "id": "d67b6336",
   "metadata": {},
   "source": [
    "#### Question 11: What is memory management in Python?\n",
    "\n",
    "#### Answer 11:\n",
    " Memory management is automatic and involves:\n",
    "\n",
    " Reference counting\n",
    "\n",
    " Garbage collection for unused or cyclic references\n",
    "\n",
    "-----------------------------------"
   ]
  },
  {
   "cell_type": "markdown",
   "id": "50aa0cb8",
   "metadata": {},
   "source": [
    "#### Question 12: What are the basic steps involved in exception handling in Python?\n",
    "\n",
    "#### Answer 12:\n",
    " try: Wrap risky code\n",
    " except: Catch and handle exceptions\n",
    " else: Executes if no exception occurs\n",
    " finally: Always executes, used for cleanup\n",
    "\n",
    "-----------------------------------"
   ]
  },
  {
   "cell_type": "markdown",
   "id": "6e71b289",
   "metadata": {},
   "source": [
    "#### Question 13: Why is memory management important in Python?\n",
    "\n",
    "#### Answer 13:\n",
    " To ensure:\n",
    " Efficient use of resources\n",
    " No memory leaks\n",
    " Stability and performance of long-running applications\n",
    "\n",
    "------------------------------------"
   ]
  },
  {
   "cell_type": "markdown",
   "id": "4eaa38cd",
   "metadata": {},
   "source": [
    "#### Question 14: What is the role of try and except in exception handling?\n",
    "\n",
    "#### Answer 14:\n",
    " try: Code that may raise an exception\n",
    " except: Handles the exception if one occurs, preventing program termination\n",
    "\n",
    "\n",
    "------------------------------------"
   ]
  },
  {
   "cell_type": "markdown",
   "id": "b597ed5b",
   "metadata": {},
   "source": [
    "#### Question 15: How does Python's garbage collection system work?\n",
    "\n",
    "#### Answer 15:\n",
    " Python uses:\n",
    "\n",
    " Reference counting to track object references\n",
    "\n",
    " A cyclic garbage collector to clean up reference cycles"
   ]
  },
  {
   "cell_type": "markdown",
   "id": "025c8fb2",
   "metadata": {},
   "source": [
    "#### Question 16: What is the purpose of the else block in exception handling?\n",
    "\n",
    "#### Answer 16:\n",
    " The else block runs only if no exception occurs in the try block, separating error-free logic from exception handling.\n",
    "\n",
    "-----------------------------------"
   ]
  },
  {
   "cell_type": "markdown",
   "id": "c58c57f9",
   "metadata": {},
   "source": [
    "#### Question 17: What are the common logging levels in Python?\n",
    "\n",
    "#### Answer 17:\n",
    " DEBUG\n",
    " INFO\n",
    " WARNING\n",
    " ERROR\n",
    " CRITICAL\n",
    "\n",
    "------------------------------------\n",
    "\n"
   ]
  },
  {
   "cell_type": "markdown",
   "id": "38f6f66d",
   "metadata": {},
   "source": [
    "#### Question 18: What is the difference between os.fork() and multiprocessing in Python?\n",
    "\n",
    "#### Answer 18:\n",
    " os.fork(): Unix-only, low-level, creates a new process identical to the parent.\n",
    "\n",
    " multiprocessing: Cross-platform, higher-level, manages processes more safely and flexibly.\n",
    "\n",
    "-----------------------------------"
   ]
  },
  {
   "cell_type": "markdown",
   "id": "28c23e47",
   "metadata": {},
   "source": [
    "##### Question 19: What is the importance of closing a file in Python?\n",
    "\n",
    "#### Answer 19:\n",
    " Releases system resources\n",
    " Ensures data is properly written\n",
    " Prevents file corruption\n",
    "\n",
    "------------------------------------"
   ]
  },
  {
   "cell_type": "markdown",
   "id": "ef76ba38",
   "metadata": {},
   "source": [
    "#### Question 20:  What is the difference between file.read() and file.readline() in Python?\n",
    "\n",
    "#### Answer 20:\n",
    " file.read(): Reads the entire file content\n",
    "\n",
    " file.readline(): Reads a single line from the file\n",
    "\n",
    "------------------------------------"
   ]
  },
  {
   "cell_type": "markdown",
   "id": "55c7df2d",
   "metadata": {},
   "source": [
    "#### Question 21:  What is the logging module in Python used for?\n",
    "\n",
    "#### Answer 21:\n",
    " Used to:\n",
    " Record messages at different severity levels\n",
    " Debug, monitor, or audit applications\n",
    " Output logs to files or other destinations\n",
    "\n",
    "--------------------------------"
   ]
  },
  {
   "cell_type": "markdown",
   "id": "b82bf4d0",
   "metadata": {},
   "source": [
    "#### Question 22: What is the os module in Python used for in file handling?\n",
    "\n",
    "#### Answer 22:\n",
    " Provides functions for:\n",
    " 1.File/directory creation and removal\n",
    " 2.Path navigation\n",
    " 3.Environment interaction (like file size or permissions)\n",
    "\n",
    "--------------------------------"
   ]
  },
  {
   "cell_type": "markdown",
   "id": "ebd0d21d",
   "metadata": {},
   "source": [
    "#### Question 23: What are the challenges associated with memory management in Python?\n",
    "\n",
    "#### Answer 23:\n",
    " 1.Handling circular references\n",
    " 2.Preventing memory leaks from lingering references\n",
    " 3.Performance issues from frequent garbage collection\n",
    "\n",
    "-------------------------------"
   ]
  },
  {
   "cell_type": "markdown",
   "id": "c0b22caa",
   "metadata": {},
   "source": [
    "#### Question 24: How do you raise an exception manually in Python?\n",
    "\n",
    "#### Answer 24:\n",
    " You can raise an exception manually using the raise keyword:\n",
    "\n",
    " raise ValueError(\"This is a custom error message\")\n",
    "\n",
    " You can raise built-in exceptions or define and raise your own custom exceptions.\n",
    "\n",
    "--------------------------------\n",
    "\n",
    "\n"
   ]
  },
  {
   "cell_type": "markdown",
   "id": "ab7bb9a3",
   "metadata": {},
   "source": [
    "#### Question 25: Why is it important to use multithreading in certain applications?\n",
    "\n",
    "#### Answer 25:\n",
    " Multithreading is important in applications that involve:\n",
    "\n",
    "  1. I/O-bound operations (e.g., reading/writing files, network requests)\n",
    "\n",
    "  2. Keeping the UI responsive in GUI apps\n",
    "\n",
    "  3. Performing concurrent tasks like handling multiple user requests in servers\n",
    "\n",
    " It helps improve efficiency and responsiveness by allowing the program to do other tasks while waiting for long operations to complete.\n",
    "\n",
    "------------------------------------"
   ]
  },
  {
   "cell_type": "markdown",
   "id": "cc52d885",
   "metadata": {},
   "source": [
    "## Practicle Questions"
   ]
  },
  {
   "cell_type": "code",
   "execution_count": 3,
   "id": "889f725b",
   "metadata": {},
   "outputs": [],
   "source": [
    "# Question 1: How can you open a file for writing in Python and write a string to it?\n",
    "\n",
    "with open(\"output.txt\", \"w\") as file:\n",
    "    file.write(\"Hello, world!\")\n",
    "\n"
   ]
  },
  {
   "cell_type": "code",
   "execution_count": 4,
   "id": "2b6d7ede",
   "metadata": {},
   "outputs": [
    {
     "ename": "FileNotFoundError",
     "evalue": "[Errno 2] No such file or directory: 'input.txt'",
     "output_type": "error",
     "traceback": [
      "\u001b[1;31m---------------------------------------------------------------------------\u001b[0m",
      "\u001b[1;31mFileNotFoundError\u001b[0m                         Traceback (most recent call last)",
      "Cell \u001b[1;32mIn[4], line 3\u001b[0m\n\u001b[0;32m      1\u001b[0m \u001b[38;5;66;03m# Question 2:  Write a Python program to read the contents of a file and print each line\u001b[39;00m\n\u001b[1;32m----> 3\u001b[0m \u001b[38;5;28;01mwith\u001b[39;00m \u001b[38;5;28;43mopen\u001b[39;49m\u001b[43m(\u001b[49m\u001b[38;5;124;43m\"\u001b[39;49m\u001b[38;5;124;43minput.txt\u001b[39;49m\u001b[38;5;124;43m\"\u001b[39;49m\u001b[43m,\u001b[49m\u001b[43m \u001b[49m\u001b[38;5;124;43m\"\u001b[39;49m\u001b[38;5;124;43mr\u001b[39;49m\u001b[38;5;124;43m\"\u001b[39;49m\u001b[43m)\u001b[49m \u001b[38;5;28;01mas\u001b[39;00m file:\n\u001b[0;32m      4\u001b[0m     \u001b[38;5;28;01mfor\u001b[39;00m line \u001b[38;5;129;01min\u001b[39;00m file:\n\u001b[0;32m      5\u001b[0m         \u001b[38;5;28mprint\u001b[39m(line\u001b[38;5;241m.\u001b[39mstrip())\n",
      "File \u001b[1;32mc:\\Users\\Sunny Gill\\AppData\\Local\\Programs\\Python\\Python312\\Lib\\site-packages\\IPython\\core\\interactiveshell.py:324\u001b[0m, in \u001b[0;36m_modified_open\u001b[1;34m(file, *args, **kwargs)\u001b[0m\n\u001b[0;32m    317\u001b[0m \u001b[38;5;28;01mif\u001b[39;00m file \u001b[38;5;129;01min\u001b[39;00m {\u001b[38;5;241m0\u001b[39m, \u001b[38;5;241m1\u001b[39m, \u001b[38;5;241m2\u001b[39m}:\n\u001b[0;32m    318\u001b[0m     \u001b[38;5;28;01mraise\u001b[39;00m \u001b[38;5;167;01mValueError\u001b[39;00m(\n\u001b[0;32m    319\u001b[0m         \u001b[38;5;124mf\u001b[39m\u001b[38;5;124m\"\u001b[39m\u001b[38;5;124mIPython won\u001b[39m\u001b[38;5;124m'\u001b[39m\u001b[38;5;124mt let you open fd=\u001b[39m\u001b[38;5;132;01m{\u001b[39;00mfile\u001b[38;5;132;01m}\u001b[39;00m\u001b[38;5;124m by default \u001b[39m\u001b[38;5;124m\"\u001b[39m\n\u001b[0;32m    320\u001b[0m         \u001b[38;5;124m\"\u001b[39m\u001b[38;5;124mas it is likely to crash IPython. If you know what you are doing, \u001b[39m\u001b[38;5;124m\"\u001b[39m\n\u001b[0;32m    321\u001b[0m         \u001b[38;5;124m\"\u001b[39m\u001b[38;5;124myou can use builtins\u001b[39m\u001b[38;5;124m'\u001b[39m\u001b[38;5;124m open.\u001b[39m\u001b[38;5;124m\"\u001b[39m\n\u001b[0;32m    322\u001b[0m     )\n\u001b[1;32m--> 324\u001b[0m \u001b[38;5;28;01mreturn\u001b[39;00m \u001b[43mio_open\u001b[49m\u001b[43m(\u001b[49m\u001b[43mfile\u001b[49m\u001b[43m,\u001b[49m\u001b[43m \u001b[49m\u001b[38;5;241;43m*\u001b[39;49m\u001b[43margs\u001b[49m\u001b[43m,\u001b[49m\u001b[43m \u001b[49m\u001b[38;5;241;43m*\u001b[39;49m\u001b[38;5;241;43m*\u001b[39;49m\u001b[43mkwargs\u001b[49m\u001b[43m)\u001b[49m\n",
      "\u001b[1;31mFileNotFoundError\u001b[0m: [Errno 2] No such file or directory: 'input.txt'"
     ]
    }
   ],
   "source": [
    "# Question 2:  Write a Python program to read the contents of a file and print each line\n",
    "\n",
    "with open(\"input.txt\", \"r\") as file:\n",
    "    for line in file:\n",
    "        print(line.strip())\n"
   ]
  },
  {
   "cell_type": "code",
   "execution_count": null,
   "id": "9789d026",
   "metadata": {},
   "outputs": [],
   "source": [
    "#  Question 3: How would you handle a case where the file doesn't exist while trying to open it for reading?\n",
    "\n",
    "try:\n",
    "    with open(\"nonexistent.txt\", \"r\") as file:\n",
    "        content = file.read()\n",
    "except FileNotFoundError:\n",
    "    print(\"File not found.\")\n"
   ]
  },
  {
   "cell_type": "code",
   "execution_count": null,
   "id": "b4bff4b7",
   "metadata": {},
   "outputs": [],
   "source": [
    "# Question 4: Write a Python script that reads from one file and writes its content to another file\n",
    "\n",
    "with open(\"source.txt\", \"r\") as source, open(\"destination.txt\", \"w\") as dest:\n",
    "    for line in source:\n",
    "        dest.write(line)\n"
   ]
  },
  {
   "cell_type": "code",
   "execution_count": null,
   "id": "e30869ef",
   "metadata": {},
   "outputs": [],
   "source": [
    "# Question 5: . How would you catch and handle division by zero error in Python?\n",
    "\n",
    "try:\n",
    "    result = 10 / 0\n",
    "except ZeroDivisionError:\n",
    "    print(\"Cannot divide by zero!\")\n"
   ]
  },
  {
   "cell_type": "code",
   "execution_count": null,
   "id": "23b8898d",
   "metadata": {},
   "outputs": [],
   "source": [
    "# Question 6: Write a Python program that logs an error message to a log file when a division by zero exception occurs\n",
    "\n",
    "import logging\n",
    "\n",
    "logging.basicConfig(filename=\"error.log\", level=logging.ERROR)\n",
    "\n",
    "try:\n",
    "    result = 10 / 0\n",
    "except ZeroDivisionError as e:\n",
    "    logging.error(\"Division by zero error: %s\", e)\n"
   ]
  },
  {
   "cell_type": "code",
   "execution_count": null,
   "id": "e859bb3f",
   "metadata": {},
   "outputs": [],
   "source": [
    "# Question 7:  How do you log information at different levels (INFO, ERROR, WARNING) in Python using the logging module?\n",
    "\n",
    "import logging\n",
    "\n",
    "logging.basicConfig(level=logging.DEBUG)\n",
    "\n",
    "logging.info(\"This is an info message\")\n",
    "logging.warning(\"This is a warning message\")\n",
    "logging.error(\"This is an error message\")\n"
   ]
  },
  {
   "cell_type": "code",
   "execution_count": null,
   "id": "89173be2",
   "metadata": {},
   "outputs": [],
   "source": [
    "# Qurstion 8: Write a program to handle a file opening error using exception handling\n",
    "\n",
    "try:\n",
    "    with open(\"file.txt\", \"r\") as file:\n",
    "        print(file.read())\n",
    "except FileNotFoundError:\n",
    "    print(\"The file could not be opened.\")\n"
   ]
  },
  {
   "cell_type": "code",
   "execution_count": null,
   "id": "bddebcaf",
   "metadata": {},
   "outputs": [],
   "source": [
    "# Question 9: How can you read a file line by line and store its content in a list in Python?\n",
    "\n",
    "with open(\"file.txt\", \"r\") as file:\n",
    "    lines = [line.strip() for line in file]\n",
    "print(lines)\n"
   ]
  },
  {
   "cell_type": "code",
   "execution_count": null,
   "id": "1bad4763",
   "metadata": {},
   "outputs": [],
   "source": [
    "# Question 10: How can you append data to an existing file in Python?\n",
    "\n",
    "with open(\"file.txt\", \"a\") as file:\n",
    "    file.write(\"\\nAppended line.\")\n"
   ]
  },
  {
   "cell_type": "code",
   "execution_count": null,
   "id": "012ff39b",
   "metadata": {},
   "outputs": [],
   "source": [
    "# Question 11: Write a Python program that uses a try-except block to handle an error when attempting to access a dictionary key that doesn't exist\n",
    "\n",
    "data = {\"name\": \"Alice\"}\n",
    "\n",
    "try:\n",
    "    print(data[\"age\"])\n",
    "except KeyError:\n",
    "    print(\"Key not found in dictionary.\")\n"
   ]
  },
  {
   "cell_type": "code",
   "execution_count": null,
   "id": "51023459",
   "metadata": {},
   "outputs": [],
   "source": [
    "# Question 12:  Write a program that demonstrates using multiple except blocks to handle different types of exceptions\n",
    "\n",
    "try:\n",
    "    num = int(\"abc\")\n",
    "    result = 10 / 0\n",
    "except ValueError:\n",
    "    print(\"Invalid number format.\")\n",
    "except ZeroDivisionError:\n",
    "    print(\"Cannot divide by zero.\")\n"
   ]
  },
  {
   "cell_type": "code",
   "execution_count": null,
   "id": "bb691b4f",
   "metadata": {},
   "outputs": [],
   "source": [
    "# Question 13:  How would you check if a file exists before attempting to read it in Python?\n",
    "\n",
    "import os\n",
    "\n",
    "if os.path.exists(\"file.txt\"):\n",
    "    with open(\"file.txt\", \"r\") as file:\n",
    "        print(file.read())\n",
    "else:\n",
    "    print(\"File does not exist.\")\n"
   ]
  },
  {
   "cell_type": "code",
   "execution_count": null,
   "id": "612a73b5",
   "metadata": {},
   "outputs": [],
   "source": [
    "# Question 14: Write a program that uses the logging module to log both informational and error messages\n",
    "\n",
    "import logging\n",
    "\n",
    "logging.basicConfig(filename=\"logfile.log\", level=logging.DEBUG)\n",
    "\n",
    "logging.info(\"Program started\")\n",
    "try:\n",
    "    1 / 0\n",
    "except ZeroDivisionError:\n",
    "    logging.error(\"Division by zero error occurred\")\n"
   ]
  },
  {
   "cell_type": "code",
   "execution_count": null,
   "id": "395263dd",
   "metadata": {},
   "outputs": [],
   "source": [
    "# Question 15:Write a Python program that prints the content of a file and handles the case when the file is empty\n",
    "\n",
    "try:\n",
    "    with open(\"file.txt\", \"r\") as file:\n",
    "        content = file.read()\n",
    "        if content:\n",
    "            print(content)\n",
    "        else:\n",
    "            print(\"The file is empty.\")\n",
    "except FileNotFoundError:\n",
    "    print(\"File not found.\")\n"
   ]
  },
  {
   "cell_type": "code",
   "execution_count": null,
   "id": "8951c42a",
   "metadata": {},
   "outputs": [],
   "source": [
    "# Question 16:  Demonstrate how to use memory profiling to check the memory usage of a small program\n",
    "\n",
    "from memory_profiler import profile\n",
    "\n",
    "@profile\n",
    "def example():\n",
    "    a = [i for i in range(100000)]\n",
    "    return a\n",
    "\n",
    "example()\n"
   ]
  },
  {
   "cell_type": "code",
   "execution_count": null,
   "id": "0a80a386",
   "metadata": {},
   "outputs": [],
   "source": [
    "# Question 17: Write a Python program to create and write a list of numbers to a file, one number per line\n",
    "\n",
    "numbers = [1, 2, 3, 4, 5]\n",
    "\n",
    "with open(\"numbers.txt\", \"w\") as file:\n",
    "    for number in numbers:\n",
    "        file.write(f\"{number}\\n\")\n"
   ]
  },
  {
   "cell_type": "code",
   "execution_count": 5,
   "id": "35770fb3",
   "metadata": {},
   "outputs": [],
   "source": [
    "# Question 18:How would you implement a basic logging setup that logs to a file with rotation after 1MB?\n",
    "\n",
    "import logging\n",
    "from logging.handlers import RotatingFileHandler\n",
    "\n",
    "handler = RotatingFileHandler(\"rotating.log\", maxBytes=1024*1024, backupCount=3)\n",
    "logging.basicConfig(handlers=[handler], level=logging.INFO)\n",
    "\n",
    "logging.info(\"This is a rotating log example.\")\n"
   ]
  },
  {
   "cell_type": "code",
   "execution_count": 6,
   "id": "9f76269e",
   "metadata": {},
   "outputs": [
    {
     "name": "stdout",
     "output_type": "stream",
     "text": [
      "Index out of range.\n"
     ]
    }
   ],
   "source": [
    "# Question 19: Write a program that handles both IndexError and KeyError using a try-except block\n",
    "\n",
    "data = {\"name\": \"Alice\"}\n",
    "items = [1, 2, 3]\n",
    "\n",
    "try:\n",
    "    print(items[5])\n",
    "    print(data[\"age\"])\n",
    "except IndexError:\n",
    "    print(\"Index out of range.\")\n",
    "except KeyError:\n",
    "    print(\"Key not found.\")\n"
   ]
  },
  {
   "cell_type": "code",
   "execution_count": 7,
   "id": "34aa87da",
   "metadata": {},
   "outputs": [
    {
     "ename": "FileNotFoundError",
     "evalue": "[Errno 2] No such file or directory: 'file.txt'",
     "output_type": "error",
     "traceback": [
      "\u001b[1;31m---------------------------------------------------------------------------\u001b[0m",
      "\u001b[1;31mFileNotFoundError\u001b[0m                         Traceback (most recent call last)",
      "Cell \u001b[1;32mIn[7], line 3\u001b[0m\n\u001b[0;32m      1\u001b[0m \u001b[38;5;66;03m# Question 20: How would you open a file and read its contents using a context manager in Python?\u001b[39;00m\n\u001b[1;32m----> 3\u001b[0m \u001b[38;5;28;01mwith\u001b[39;00m \u001b[38;5;28;43mopen\u001b[39;49m\u001b[43m(\u001b[49m\u001b[38;5;124;43m\"\u001b[39;49m\u001b[38;5;124;43mfile.txt\u001b[39;49m\u001b[38;5;124;43m\"\u001b[39;49m\u001b[43m,\u001b[49m\u001b[43m \u001b[49m\u001b[38;5;124;43m\"\u001b[39;49m\u001b[38;5;124;43mr\u001b[39;49m\u001b[38;5;124;43m\"\u001b[39;49m\u001b[43m)\u001b[49m \u001b[38;5;28;01mas\u001b[39;00m file:\n\u001b[0;32m      4\u001b[0m     content \u001b[38;5;241m=\u001b[39m file\u001b[38;5;241m.\u001b[39mread()\n\u001b[0;32m      5\u001b[0m     \u001b[38;5;28mprint\u001b[39m(content)\n",
      "File \u001b[1;32mc:\\Users\\Sunny Gill\\AppData\\Local\\Programs\\Python\\Python312\\Lib\\site-packages\\IPython\\core\\interactiveshell.py:324\u001b[0m, in \u001b[0;36m_modified_open\u001b[1;34m(file, *args, **kwargs)\u001b[0m\n\u001b[0;32m    317\u001b[0m \u001b[38;5;28;01mif\u001b[39;00m file \u001b[38;5;129;01min\u001b[39;00m {\u001b[38;5;241m0\u001b[39m, \u001b[38;5;241m1\u001b[39m, \u001b[38;5;241m2\u001b[39m}:\n\u001b[0;32m    318\u001b[0m     \u001b[38;5;28;01mraise\u001b[39;00m \u001b[38;5;167;01mValueError\u001b[39;00m(\n\u001b[0;32m    319\u001b[0m         \u001b[38;5;124mf\u001b[39m\u001b[38;5;124m\"\u001b[39m\u001b[38;5;124mIPython won\u001b[39m\u001b[38;5;124m'\u001b[39m\u001b[38;5;124mt let you open fd=\u001b[39m\u001b[38;5;132;01m{\u001b[39;00mfile\u001b[38;5;132;01m}\u001b[39;00m\u001b[38;5;124m by default \u001b[39m\u001b[38;5;124m\"\u001b[39m\n\u001b[0;32m    320\u001b[0m         \u001b[38;5;124m\"\u001b[39m\u001b[38;5;124mas it is likely to crash IPython. If you know what you are doing, \u001b[39m\u001b[38;5;124m\"\u001b[39m\n\u001b[0;32m    321\u001b[0m         \u001b[38;5;124m\"\u001b[39m\u001b[38;5;124myou can use builtins\u001b[39m\u001b[38;5;124m'\u001b[39m\u001b[38;5;124m open.\u001b[39m\u001b[38;5;124m\"\u001b[39m\n\u001b[0;32m    322\u001b[0m     )\n\u001b[1;32m--> 324\u001b[0m \u001b[38;5;28;01mreturn\u001b[39;00m \u001b[43mio_open\u001b[49m\u001b[43m(\u001b[49m\u001b[43mfile\u001b[49m\u001b[43m,\u001b[49m\u001b[43m \u001b[49m\u001b[38;5;241;43m*\u001b[39;49m\u001b[43margs\u001b[49m\u001b[43m,\u001b[49m\u001b[43m \u001b[49m\u001b[38;5;241;43m*\u001b[39;49m\u001b[38;5;241;43m*\u001b[39;49m\u001b[43mkwargs\u001b[49m\u001b[43m)\u001b[49m\n",
      "\u001b[1;31mFileNotFoundError\u001b[0m: [Errno 2] No such file or directory: 'file.txt'"
     ]
    }
   ],
   "source": [
    "# Question 20: How would you open a file and read its contents using a context manager in Python?\n",
    "\n",
    "with open(\"file.txt\", \"r\") as file:\n",
    "    content = file.read()\n",
    "    print(content)\n"
   ]
  },
  {
   "cell_type": "code",
   "execution_count": null,
   "id": "84bf5936",
   "metadata": {},
   "outputs": [],
   "source": [
    "# Question 21: Write a Python program that reads a file and prints the number of occurrences of a specific word\n",
    "\n",
    "word = \"python\"\n",
    "\n",
    "with open(\"file.txt\", \"r\") as file:\n",
    "    content = file.read().lower()\n",
    "    count = content.count(word.lower())\n",
    "    print(f\"The word '{word}' appears {count} times.\")\n"
   ]
  },
  {
   "cell_type": "code",
   "execution_count": null,
   "id": "a050878e",
   "metadata": {},
   "outputs": [],
   "source": [
    "# Question 22: How can you check if a file is empty before attempting to read its contents?\n",
    "\n",
    "import os\n",
    "\n",
    "if os.path.getsize(\"file.txt\") == 0:\n",
    "    print(\"The file is empty.\")\n",
    "else:\n",
    "    with open(\"file.txt\", \"r\") as file:\n",
    "        print(file.read())\n"
   ]
  },
  {
   "cell_type": "code",
   "execution_count": null,
   "id": "84db6bca",
   "metadata": {},
   "outputs": [],
   "source": [
    "# Question 23: Write a Python program that writes to a log file when an error occurs during file handling\n",
    "\n",
    "import logging\n",
    "\n",
    "logging.basicConfig(filename=\"file_errors.log\", level=logging.ERROR)\n",
    "\n",
    "try:\n",
    "    with open(\"missing.txt\", \"r\") as file:\n",
    "        print(file.read())\n",
    "except FileNotFoundError as e:\n",
    "    logging.error(f\"File handling error: {e}\")\n"
   ]
  },
  {
   "cell_type": "code",
   "execution_count": null,
   "id": "53142f8b",
   "metadata": {},
   "outputs": [],
   "source": []
  }
 ],
 "metadata": {
  "kernelspec": {
   "display_name": "Python 3",
   "language": "python",
   "name": "python3"
  },
  "language_info": {
   "codemirror_mode": {
    "name": "ipython",
    "version": 3
   },
   "file_extension": ".py",
   "mimetype": "text/x-python",
   "name": "python",
   "nbconvert_exporter": "python",
   "pygments_lexer": "ipython3",
   "version": "3.12.3"
  }
 },
 "nbformat": 4,
 "nbformat_minor": 5
}
